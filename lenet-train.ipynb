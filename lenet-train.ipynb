{
 "cells": [
  {
   "cell_type": "code",
   "execution_count": 4,
   "metadata": {},
   "outputs": [],
   "source": [
    "import torch\n",
    "from torch import nn\n",
    "import torch.nn.functional as F\n",
    "import torch.optim as optim\n",
    "from torchvision import datasets, transforms as T\n",
    "from torch.utils.data import DataLoader, random_split\n",
    "from torch.utils.tensorboard import SummaryWriter\n",
    "\n",
    "from model import Lenet\n",
    "from data_loader import get_data_loaders\n",
    "from utils import save_checkpoint\n",
    "\n",
    "writer = SummaryWriter(\"runs/fashion_mnist_experiment\")"
   ]
  },
  {
   "cell_type": "code",
   "execution_count": 3,
   "metadata": {},
   "outputs": [
    {
     "name": "stdout",
     "output_type": "stream",
     "text": [
      "Train size: 48000\n",
      "Validation size: 12000\n",
      "Test size: 10000\n"
     ]
    }
   ],
   "source": [
    "train_loader, val_loader, test_loader = get_data_loaders(data_dir=\"../data\")"
   ]
  },
  {
   "cell_type": "code",
   "execution_count": 4,
   "metadata": {},
   "outputs": [
    {
     "name": "stdout",
     "output_type": "stream",
     "text": [
      "Using mps device\n"
     ]
    }
   ],
   "source": [
    "device = torch.accelerator.current_accelerator().type if torch.accelerator.is_available() else 'cpu'\n",
    "print(f\"Using {device} device\")"
   ]
  },
  {
   "cell_type": "code",
   "execution_count": 6,
   "metadata": {},
   "outputs": [
    {
     "name": "stdout",
     "output_type": "stream",
     "text": [
      "conv1      Conv2d          output shape:torch.Size([1, 6, 28, 28])\n",
      "pool1      AvgPool2d       output shape:torch.Size([1, 6, 14, 14])\n",
      "conv2      Conv2d          output shape:torch.Size([1, 16, 10, 10])\n",
      "pool2      AvgPool2d       output shape:torch.Size([1, 16, 5, 5])\n",
      "flatten    Flatten         output shape:torch.Size([1, 400])\n",
      "fc1        Linear          output shape:torch.Size([1, 120])\n",
      "fc2        Linear          output shape:torch.Size([1, 84])\n",
      "fc3        Linear          output shape:torch.Size([1, 10])\n"
     ]
    }
   ],
   "source": [
    "model = Lenet()\n",
    "model.layer_summary((1, 1, 28, 28))"
   ]
  },
  {
   "cell_type": "code",
   "execution_count": 7,
   "metadata": {},
   "outputs": [],
   "source": [
    "loss_fn = nn.CrossEntropyLoss()\n",
    "optimizer = optim.Adam(model.parameters(), lr=0.001)"
   ]
  },
  {
   "cell_type": "code",
   "execution_count": 9,
   "metadata": {},
   "outputs": [],
   "source": [
    "def train(dataloader, model, loss_fn, optimizer, epoch):\n",
    "    size = len(dataloader.dataset)\n",
    "    model.train()\n",
    "    for batch, (X, y) in enumerate(dataloader):\n",
    "        X, y = X.to(device), y.to(device)\n",
    "\n",
    "        # Forward pass\n",
    "        pred = model(X)\n",
    "        loss = loss_fn(pred, y)\n",
    "\n",
    "        # Backward and optimize\n",
    "        optimizer.zero_grad()\n",
    "        loss.backward()\n",
    "        optimizer.step()\n",
    "\n",
    "        # Log to Tensorboard\n",
    "        writer.add_scalar('Loss/train', loss.item(), epoch * len(dataloader) + batch)\n",
    "\n",
    "        if batch % 100 == 0:\n",
    "            loss, current = loss.item(), int((batch * len(X)) / size)\n",
    "            print(f\"loss: {loss:>7f}  [{current:>5d}/{size:>5d}]\")"
   ]
  },
  {
   "cell_type": "code",
   "execution_count": 10,
   "metadata": {},
   "outputs": [],
   "source": [
    "def evaluate(dataloader, model, loss_fn, epoch, phase=\"Validation\"):\n",
    "    size = len(dataloader.dataset)\n",
    "    num_batches = len(dataloader)\n",
    "    model.eval()\n",
    "    total_loss, correct = 0, 0\n",
    "\n",
    "    with torch.no_grad():\n",
    "        for X, y in dataloader:\n",
    "            X, y = X.to(device), y.to(device)\n",
    "            pred = model(X)\n",
    "            total_loss += loss_fn(pred, y).item()\n",
    "            correct += (pred.argmax(1) == y).type(torch.float).sum().item()\n",
    "\n",
    "    avg_loss = total_loss / num_batches\n",
    "    accuracy = correct / size\n",
    "    print(f\"{phase} Accuracy: {100*accuracy:.2f}%, Avg loss: {avg_loss:.6f}\")\n",
    "\n",
    "    # Log to TensorBoard\n",
    "    writer.add_scalar(f'Loss/{phase}', avg_loss, epoch)\n",
    "    writer.add_scalar(f'Accuracy/{phase}', accuracy, epoch)\n",
    "    \n",
    "    return avg_loss, accuracy\n"
   ]
  },
  {
   "cell_type": "code",
   "execution_count": 11,
   "metadata": {},
   "outputs": [
    {
     "name": "stdout",
     "output_type": "stream",
     "text": [
      "Epoch 1\n",
      "-------------------------------\n",
      "loss: 2.371521  [    0/48000]\n",
      "loss: 2.175277  [    0/48000]\n",
      "loss: 1.334751  [    0/48000]\n",
      "loss: 1.120082  [    0/48000]\n",
      "loss: 0.767620  [    0/48000]\n",
      "loss: 0.920900  [    0/48000]\n",
      "loss: 1.008110  [    0/48000]\n",
      "loss: 0.816122  [    0/48000]\n",
      "Validation Accuracy: 71.71%, Avg loss: 0.772578\n",
      "Checkpoint saved at checkpoints/lenet_epoch_0.pth\n",
      "Epoch 2\n",
      "-------------------------------\n",
      "loss: 0.682111  [    0/48000]\n",
      "loss: 0.758710  [    0/48000]\n",
      "loss: 0.735206  [    0/48000]\n",
      "loss: 0.795315  [    0/48000]\n",
      "loss: 0.655404  [    0/48000]\n",
      "loss: 0.617429  [    0/48000]\n",
      "loss: 0.540230  [    0/48000]\n",
      "loss: 0.558959  [    0/48000]\n",
      "Validation Accuracy: 74.85%, Avg loss: 0.632044\n",
      "Checkpoint saved at checkpoints/lenet_epoch_1.pth\n",
      "Epoch 3\n",
      "-------------------------------\n",
      "loss: 0.615358  [    0/48000]\n",
      "loss: 0.470082  [    0/48000]\n",
      "loss: 0.483386  [    0/48000]\n",
      "loss: 0.538534  [    0/48000]\n",
      "loss: 0.638388  [    0/48000]\n",
      "loss: 0.524421  [    0/48000]\n",
      "loss: 0.475866  [    0/48000]\n",
      "loss: 0.682137  [    0/48000]\n",
      "Validation Accuracy: 79.63%, Avg loss: 0.551209\n",
      "Checkpoint saved at checkpoints/lenet_epoch_2.pth\n",
      "Epoch 4\n",
      "-------------------------------\n",
      "loss: 0.393824  [    0/48000]\n",
      "loss: 0.750434  [    0/48000]\n",
      "loss: 0.356078  [    0/48000]\n",
      "loss: 0.585649  [    0/48000]\n",
      "loss: 0.480563  [    0/48000]\n",
      "loss: 0.547051  [    0/48000]\n",
      "loss: 0.472511  [    0/48000]\n",
      "loss: 0.527616  [    0/48000]\n",
      "Validation Accuracy: 81.27%, Avg loss: 0.515678\n",
      "Checkpoint saved at checkpoints/lenet_epoch_3.pth\n",
      "Epoch 5\n",
      "-------------------------------\n",
      "loss: 0.518259  [    0/48000]\n",
      "loss: 0.399907  [    0/48000]\n",
      "loss: 0.513866  [    0/48000]\n",
      "loss: 0.544351  [    0/48000]\n",
      "loss: 0.431264  [    0/48000]\n",
      "loss: 0.370677  [    0/48000]\n",
      "loss: 0.312918  [    0/48000]\n",
      "loss: 0.458139  [    0/48000]\n",
      "Validation Accuracy: 82.03%, Avg loss: 0.483258\n",
      "Checkpoint saved at checkpoints/lenet_epoch_4.pth\n",
      "Epoch 6\n",
      "-------------------------------\n",
      "loss: 0.384718  [    0/48000]\n",
      "loss: 0.515601  [    0/48000]\n",
      "loss: 0.504806  [    0/48000]\n",
      "loss: 0.429248  [    0/48000]\n",
      "loss: 0.524390  [    0/48000]\n",
      "loss: 0.420909  [    0/48000]\n",
      "loss: 0.393036  [    0/48000]\n",
      "loss: 0.510789  [    0/48000]\n",
      "Validation Accuracy: 82.89%, Avg loss: 0.457720\n",
      "Checkpoint saved at checkpoints/lenet_epoch_5.pth\n",
      "Epoch 7\n",
      "-------------------------------\n",
      "loss: 0.350416  [    0/48000]\n",
      "loss: 0.359989  [    0/48000]\n",
      "loss: 0.534194  [    0/48000]\n",
      "loss: 0.389816  [    0/48000]\n",
      "loss: 0.388887  [    0/48000]\n",
      "loss: 0.405501  [    0/48000]\n",
      "loss: 0.302749  [    0/48000]\n",
      "loss: 0.373169  [    0/48000]\n",
      "Validation Accuracy: 83.16%, Avg loss: 0.454389\n",
      "Checkpoint saved at checkpoints/lenet_epoch_6.pth\n",
      "Epoch 8\n",
      "-------------------------------\n",
      "loss: 0.435493  [    0/48000]\n",
      "loss: 0.493887  [    0/48000]\n",
      "loss: 0.282718  [    0/48000]\n",
      "loss: 0.430330  [    0/48000]\n",
      "loss: 0.381310  [    0/48000]\n",
      "loss: 0.390233  [    0/48000]\n",
      "loss: 0.408547  [    0/48000]\n",
      "loss: 0.375895  [    0/48000]\n",
      "Validation Accuracy: 83.59%, Avg loss: 0.436739\n",
      "Checkpoint saved at checkpoints/lenet_epoch_7.pth\n",
      "Epoch 9\n",
      "-------------------------------\n",
      "loss: 0.479240  [    0/48000]\n",
      "loss: 0.519463  [    0/48000]\n",
      "loss: 0.667951  [    0/48000]\n",
      "loss: 0.335656  [    0/48000]\n",
      "loss: 0.297785  [    0/48000]\n",
      "loss: 0.376895  [    0/48000]\n",
      "loss: 0.585715  [    0/48000]\n",
      "loss: 0.352907  [    0/48000]\n",
      "Validation Accuracy: 84.90%, Avg loss: 0.416796\n",
      "Checkpoint saved at checkpoints/lenet_epoch_8.pth\n",
      "Epoch 10\n",
      "-------------------------------\n",
      "loss: 0.588249  [    0/48000]\n",
      "loss: 0.346226  [    0/48000]\n",
      "loss: 0.565762  [    0/48000]\n",
      "loss: 0.447128  [    0/48000]\n",
      "loss: 0.326162  [    0/48000]\n",
      "loss: 0.326063  [    0/48000]\n",
      "loss: 0.425928  [    0/48000]\n",
      "loss: 0.415900  [    0/48000]\n",
      "Validation Accuracy: 85.61%, Avg loss: 0.395978\n",
      "Checkpoint saved at checkpoints/lenet_epoch_9.pth\n",
      "Done!\n"
     ]
    }
   ],
   "source": [
    "epoch = 10\n",
    "\n",
    "model = model.to(device)\n",
    "\n",
    "for t in range(epoch):\n",
    "    print(f\"Epoch {t+1}\\n-------------------------------\")\n",
    "    train(train_loader, model, loss_fn, optimizer, epoch=t)\n",
    "    eval_loss, eval_acc = evaluate(val_loader, model, loss_fn, epoch=t)\n",
    "    save_checkpoint(t, model, optimizer, eval_loss)\n",
    "\n",
    "print(\"Done!\")\n",
    "writer.close()"
   ]
  },
  {
   "cell_type": "code",
   "execution_count": 12,
   "metadata": {},
   "outputs": [
    {
     "name": "stdout",
     "output_type": "stream",
     "text": [
      "No known TensorBoard instances running.\n"
     ]
    }
   ],
   "source": [
    "import tensorboard\n",
    "tensorboard.notebook.list() "
   ]
  },
  {
   "cell_type": "code",
   "execution_count": null,
   "metadata": {},
   "outputs": [],
   "source": [
    "tensorboard.notebook.start(\"--logdir=runs/fashion_mnist_experiment\")"
   ]
  },
  {
   "cell_type": "code",
   "execution_count": 14,
   "metadata": {},
   "outputs": [
    {
     "name": "stdout",
     "output_type": "stream",
     "text": [
      "Selecting TensorBoard with logdir runs/fashion_mnist_experiment (started 0:00:11 ago; port 6006, pid 95494).\n"
     ]
    },
    {
     "data": {
      "text/html": [
       "\n",
       "      <iframe id=\"tensorboard-frame-17d310fbe8145cdd\" width=\"100%\" height=\"800\" frameborder=\"0\">\n",
       "      </iframe>\n",
       "      <script>\n",
       "        (function() {\n",
       "          const frame = document.getElementById(\"tensorboard-frame-17d310fbe8145cdd\");\n",
       "          const url = new URL(\"http://localhost\");\n",
       "          const port = 6006;\n",
       "          if (port) {\n",
       "            url.port = port;\n",
       "          }\n",
       "          frame.src = url;\n",
       "        })();\n",
       "      </script>\n",
       "    "
      ],
      "text/plain": [
       "<IPython.core.display.HTML object>"
      ]
     },
     "metadata": {},
     "output_type": "display_data"
    }
   ],
   "source": [
    "tensorboard.notebook.display(port=6006)"
   ]
  },
  {
   "cell_type": "code",
   "execution_count": 20,
   "metadata": {},
   "outputs": [
    {
     "data": {
      "text/plain": [
       "0"
      ]
     },
     "execution_count": 20,
     "metadata": {},
     "output_type": "execute_result"
    }
   ],
   "source": [
    "import os\n",
    "os.system(\"pkill -f tensorboard\")"
   ]
  },
  {
   "cell_type": "code",
   "execution_count": null,
   "metadata": {},
   "outputs": [],
   "source": []
  }
 ],
 "metadata": {
  "kernelspec": {
   "display_name": "Python 3",
   "language": "python",
   "name": "python3"
  },
  "language_info": {
   "codemirror_mode": {
    "name": "ipython",
    "version": 3
   },
   "file_extension": ".py",
   "mimetype": "text/x-python",
   "name": "python",
   "nbconvert_exporter": "python",
   "pygments_lexer": "ipython3",
   "version": "3.11.11"
  }
 },
 "nbformat": 4,
 "nbformat_minor": 2
}
